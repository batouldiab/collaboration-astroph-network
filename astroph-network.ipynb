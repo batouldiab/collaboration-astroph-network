{
 "cells": [
  {
   "cell_type": "markdown",
   "metadata": {},
   "source": [
    "## Importing Needed Libraries"
   ]
  },
  {
   "cell_type": "code",
   "execution_count": 3,
   "metadata": {},
   "outputs": [],
   "source": [
    "import networkx as nx\n",
    "from datetime import datetime"
   ]
  },
  {
   "cell_type": "markdown",
   "metadata": {},
   "source": [
    "## Import Dataset and Create The Network"
   ]
  },
  {
   "cell_type": "code",
   "execution_count": 10,
   "metadata": {},
   "outputs": [
    {
     "name": "stdout",
     "output_type": "stream",
     "text": [
      "2023-11-04 15:25:25.899081\n",
      "Number of nodes 18772\n",
      "Number of edges 198110\n",
      "Average degree 21.10696782441935\n"
     ]
    }
   ],
   "source": [
    "print(datetime.now())\n",
    "g = nx.Graph()\n",
    "f = open(\"astrophy.txt\", \"r\")\n",
    "for x in f:\n",
    "    nodes= x.split()\n",
    "    if (not g.has_edge(nodes[0],nodes[1])):\n",
    "        g.add_edge(nodes[0],nodes[1])\n",
    "f.close()\n",
    "print('Number of nodes', len(g.nodes))\n",
    "print('Number of edges', len(g.edges))\n",
    "print('Average degree', sum(dict(g.degree).values()) / len(g.nodes))"
   ]
  },
  {
   "cell_type": "markdown",
   "metadata": {},
   "source": [
    "A higher average degree (which is the number of edges connected to a node on average) suggests that, on average, nodes in the graph are more connected to other nodes. This could indicate a dense or well-connected network."
   ]
  },
  {
   "cell_type": "markdown",
   "metadata": {},
   "source": []
  }
 ],
 "metadata": {
  "kernelspec": {
   "display_name": "Python 3",
   "language": "python",
   "name": "python3"
  },
  "language_info": {
   "codemirror_mode": {
    "name": "ipython",
    "version": 3
   },
   "file_extension": ".py",
   "mimetype": "text/x-python",
   "name": "python",
   "nbconvert_exporter": "python",
   "pygments_lexer": "ipython3",
   "version": "3.12.0"
  }
 },
 "nbformat": 4,
 "nbformat_minor": 2
}
